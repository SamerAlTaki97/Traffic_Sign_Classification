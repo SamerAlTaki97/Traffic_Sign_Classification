{
 "cells": [
  {
   "cell_type": "markdown",
   "metadata": {
    "id": "U-L8VgWMC0t2"
   },
   "source": [
    "# Name : Samer AlTaki\n",
    "### IOT & Computer Vision \n",
    "## Task5 :\n",
    "## Traffic Signs Classification"
   ]
  },
  {
   "cell_type": "markdown",
   "metadata": {},
   "source": [
    "#   "
   ]
  },
  {
   "cell_type": "code",
   "execution_count": null,
   "metadata": {},
   "outputs": [],
   "source": [
    "import pickle as pkl\n",
    "import matplotlib.pyplot as plt\n",
    "import numpy as np\n",
    "from sklearn.utils import shuffle\n",
    "from imgaug import augmenters  as iaa\n",
    "import cv2\n",
    "import random"
   ]
  },
  {
   "cell_type": "markdown",
   "metadata": {
    "id": "8CkndBCyDCUb"
   },
   "source": [
    "**1- Mount google drive and import dataset**\n",
    "\n"
   ]
  },
  {
   "cell_type": "code",
   "execution_count": 5,
   "metadata": {
    "colab": {
     "base_uri": "https://localhost:8080/"
    },
    "id": "WauXs4spfmZH",
    "outputId": "3b566192-3ac6-4365-b817-ad6e0a2b802a"
   },
   "outputs": [
    {
     "name": "stdout",
     "output_type": "stream",
     "text": [
      "Mounted at /content/drive\n"
     ]
    }
   ],
   "source": [
    "#mount google drive\n",
    "drive.mount('/content/drive')"
   ]
  },
  {
   "cell_type": "code",
   "execution_count": 116,
   "metadata": {
    "id": "ioLEJNnYgMAc"
   },
   "outputs": [],
   "source": [
    "training_file = \"/content/drive/MyDrive/classify/data/train.p\"\n",
    "validation_file= \"/content/drive/MyDrive/classify/data/valid.p\"\n",
    "testing_file = \"/content/drive/MyDrive/classify/data/test.p\"\n",
    "\n",
    "with open(training_file, mode='rb') as f:\n",
    "    train = pkl.load(f)\n",
    "with open(validation_file, mode='rb') as f:\n",
    "    valid = pkl.load(f)\n",
    "with open(testing_file, mode='rb') as f:\n",
    "    test = pkl.load(f)"
   ]
  },
  {
   "cell_type": "code",
   "execution_count": 117,
   "metadata": {
    "id": "w4hYhqoph3U7"
   },
   "outputs": [],
   "source": [
    "WIDTH = 32\n",
    "HEIGHT = 32"
   ]
  },
  {
   "cell_type": "code",
   "execution_count": 118,
   "metadata": {
    "colab": {
     "base_uri": "https://localhost:8080/"
    },
    "id": "fcALi_IVgpsj",
    "outputId": "29a6c832-4552-4db0-d6db-aae23fba863a"
   },
   "outputs": [
    {
     "name": "stdout",
     "output_type": "stream",
     "text": [
      "(34799, 32, 32, 3)\n",
      "(34799,)\n"
     ]
    }
   ],
   "source": [
    "X_train = train['features']\n",
    "y_train = train['labels']\n",
    "\n",
    "print(X_train.shape)\n",
    "print(y_train.shape)"
   ]
  },
  {
   "cell_type": "code",
   "execution_count": 119,
   "metadata": {
    "colab": {
     "base_uri": "https://localhost:8080/"
    },
    "id": "kzMvhW6jFC9Z",
    "outputId": "3640da53-b75f-4922-ce2f-25c571160833"
   },
   "outputs": [
    {
     "name": "stdout",
     "output_type": "stream",
     "text": [
      "(4410, 32, 32, 3)\n",
      "(4410,)\n"
     ]
    }
   ],
   "source": [
    "X_valid = valid['features']\n",
    "y_valid = valid['labels']\n",
    "\n",
    "X_valid = np.array(X_valid)\n",
    "y_valid = np.array(y_valid)\n",
    "\n",
    "print(X_valid.shape)\n",
    "print(y_valid.shape)"
   ]
  },
  {
   "cell_type": "markdown",
   "metadata": {
    "id": "_rNJ--SqDPwx"
   },
   "source": [
    "**2- About the Dataset**"
   ]
  },
  {
   "cell_type": "code",
   "execution_count": 120,
   "metadata": {
    "colab": {
     "base_uri": "https://localhost:8080/",
     "height": 295
    },
    "id": "r1V_EI7JjEh4",
    "outputId": "bd067a33-cc63-427b-f964-6bcfd6c7f724"
   },
   "outputs": [
    {
     "data": {
      "image/png": "[encoded data removed]",
      "text/plain": [
       "<Figure size 432x288 with 1 Axes>"
      ]
     },
     "metadata": {
      "needs_background": "light"
     },
     "output_type": "display_data"
    }
   ],
   "source": [
    "num_bins = 43\n",
    "samples_per_bin = 250\n",
    "plt.hist(y_train, bins =num_bins,rwidth=0.8)\n",
    "plt.plot((np.min(y_train), np.max(y_train)), (samples_per_bin, samples_per_bin))\n",
    "plt.title('Unbalanced Dataset')\n",
    "plt.xlabel('Class Id')\n",
    "plt.ylabel('No.of Images')\n",
    "plt.show()\n",
    "\n",
    "_, bins = np.histogram(y_train, num_bins)"
   ]
  },
  {
   "cell_type": "code",
   "execution_count": 121,
   "metadata": {
    "colab": {
     "base_uri": "https://localhost:8080/"
    },
    "id": "EUZQ3IcQsCj_",
    "outputId": "9caa9501-661d-4c68-8dbb-fcb0578d3bab"
   },
   "outputs": [
    {
     "name": "stdout",
     "output_type": "stream",
     "text": [
      "[ 0.          0.97674419  1.95348837  2.93023256  3.90697674  4.88372093\n",
      "  5.86046512  6.8372093   7.81395349  8.79069767  9.76744186 10.74418605\n",
      " 11.72093023 12.69767442 13.6744186  14.65116279 15.62790698 16.60465116\n",
      " 17.58139535 18.55813953 19.53488372 20.51162791 21.48837209 22.46511628\n",
      " 23.44186047 24.41860465 25.39534884 26.37209302 27.34883721 28.3255814\n",
      " 29.30232558 30.27906977 31.25581395 32.23255814 33.20930233 34.18604651\n",
      " 35.1627907  36.13953488 37.11627907 38.09302326 39.06976744 40.04651163\n",
      " 41.02325581 42.        ]\n"
     ]
    }
   ],
   "source": [
    "print(bins)"
   ]
  },
  {
   "cell_type": "code",
   "execution_count": 122,
   "metadata": {
    "colab": {
     "base_uri": "https://localhost:8080/"
    },
    "id": "bjtO4PAXk9jD",
    "outputId": "f22e4af8-c536-4ad2-c5d0-618d2aa729ca"
   },
   "outputs": [
    {
     "name": "stdout",
     "output_type": "stream",
     "text": [
      "total data: 34799\n",
      "removed: 24439\n",
      "remaining images: 10360\n",
      "remaining labels: 10360\n"
     ]
    }
   ],
   "source": [
    "#Balance the data\n",
    "print ('total data:', len(X_train))\n",
    "remove_list = []\n",
    "for j in range(num_bins):\n",
    "  list_ = []\n",
    "  for i in range(len(y_train)):\n",
    "    if y_train[i]>= bins[j] and y_train[i]<=bins[j+1]:\n",
    "      list_.append(i)\n",
    "  list_ = shuffle(list_)\n",
    "  #print(list_)\n",
    "  if len(list_)>samples_per_bin:\n",
    "    list_ = list_[samples_per_bin:]\n",
    "    remove_list.extend(list_)\n",
    "\n",
    "print('removed:', len(remove_list))\n",
    "\n",
    "X_train = np.delete(X_train, remove_list, axis=0)\n",
    "print ('remaining images:', len (X_train))\n",
    "\n",
    "y_train = np.delete(y_train, remove_list, axis=0)\n",
    "print ('remaining labels:', len (y_train))"
   ]
  },
  {
   "cell_type": "code",
   "execution_count": 123,
   "metadata": {
    "colab": {
     "base_uri": "https://localhost:8080/",
     "height": 295
    },
    "id": "CItUL0WcvPJ-",
    "outputId": "79d283f0-56fa-45ce-98a4-f5df51ba3a39"
   },
   "outputs": [
    {
     "data": {
      "image/png": "[encoded data removed]",
      "text/plain": [
       "<Figure size 432x288 with 1 Axes>"
      ]
     },
     "metadata": {
      "needs_background": "light"
     },
     "output_type": "display_data"
    }
   ],
   "source": [
    "num_bins = 43\n",
    "samples_per_bin = 500\n",
    "plt.hist(y_train, bins =num_bins,rwidth=0.8)\n",
    "plt.title('Balanaced Dataset')\n",
    "plt.xlabel('Class Id')\n",
    "plt.ylabel('No.of Images')\n",
    "plt.show()"
   ]
  },
  {
   "cell_type": "markdown",
   "metadata": {
    "id": "Z4zYxmWfEFxS"
   },
   "source": [
    "**3- Image Augmentation to Artifically Expand the Dataset**"
   ]
  },
  {
   "cell_type": "code",
   "execution_count": 124,
   "metadata": {
    "id": "9BIZonF5vlLS"
   },
   "outputs": [],
   "source": [
    "#image augmentation\n",
    "def zoom(image):\n",
    "  zoom_img = iaa.Affine(scale = (0.9, 1.3))\n",
    "  image = zoom_img.augment_image(image)\n",
    "  return image"
   ]
  },
  {
   "cell_type": "code",
   "execution_count": 125,
   "metadata": {
    "colab": {
     "base_uri": "https://localhost:8080/",
     "height": 575
    },
    "id": "yLhZrMdavr0j",
    "outputId": "430b75d4-b71f-4005-efb2-ee56e73fbc26"
   },
   "outputs": [
    {
     "name": "stdout",
     "output_type": "stream",
     "text": [
      "2\n"
     ]
    },
    {
     "data": {
      "image/png": "[encoded data removed]",
      "text/plain": [
       "<Figure size 1080x720 with 2 Axes>"
      ]
     },
     "metadata": {
      "needs_background": "light"
     },
     "output_type": "display_data"
    }
   ],
   "source": [
    "index = random.randint(0,len(X_train)-1)\n",
    "image= X_train[index]\n",
    "label= y_train [index]\n",
    "zoomed_image = zoom(image)\n",
    "\n",
    "fig, axs = plt.subplots(1, 2, figsize=(15, 10))\n",
    "fig.tight_layout()\n",
    "axs[0].imshow(image)\n",
    "axs[0].set_title('Original Image')\n",
    "axs[1].imshow(zoomed_image)\n",
    "axs[1].set_title('Zoomed Image')\n",
    "\n",
    "print(label)"
   ]
  },
  {
   "cell_type": "code",
   "execution_count": 126,
   "metadata": {
    "id": "2ce2pMFW-KvG"
   },
   "outputs": [],
   "source": [
    "def pan(image):\n",
    "  pan = iaa.Affine(translate_percent={'x': (-0.1, 0.1), 'y': (-0.1, 0.1)})\n",
    "  image = pan.augment_image(image)\n",
    "  return image"
   ]
  },
  {
   "cell_type": "code",
   "execution_count": 127,
   "metadata": {
    "colab": {
     "base_uri": "https://localhost:8080/",
     "height": 594
    },
    "id": "fp1lVw9--RdL",
    "outputId": "a698bf20-b820-4582-9140-8ed7d6de8079",
    "scrolled": true
   },
   "outputs": [
    {
     "name": "stdout",
     "output_type": "stream",
     "text": [
      "(32, 32, 3)\n",
      "28\n"
     ]
    },
    {
     "data": {
      "image/png": "[encoded data removed]",
      "text/plain": [
       "<Figure size 1080x720 with 2 Axes>"
      ]
     },
     "metadata": {
      "needs_background": "light"
     },
     "output_type": "display_data"
    }
   ],
   "source": [
    "index = random.randint(0,len(X_train)-1)\n",
    "image= X_train[index]\n",
    "label= y_train [index]\n",
    "panned_image = pan(image)\n",
    "\n",
    "fig, axs = plt.subplots(1, 2, figsize=(15, 10))\n",
    "fig.tight_layout()\n",
    "axs[0].imshow(image)\n",
    "axs[0].set_title('Original Image')\n",
    "axs[1].imshow(panned_image)\n",
    "axs[1].set_title('Panned Image')\n",
    "print(panned_image.shape)\n",
    "print(label)"
   ]
  },
  {
   "cell_type": "code",
   "execution_count": 128,
   "metadata": {
    "id": "szgKuYy6-qQx"
   },
   "outputs": [],
   "source": [
    "def img_random_brightness(image):\n",
    "  brightness = iaa.Multiply((0.2, 1.8))\n",
    "  image = brightness.augment_image(image)\n",
    "  return image"
   ]
  },
  {
   "cell_type": "code",
   "execution_count": 129,
   "metadata": {
    "colab": {
     "base_uri": "https://localhost:8080/",
     "height": 575
    },
    "id": "WSuLGYkc-qaE",
    "outputId": "cc304cf0-b4d0-4efb-c037-d3008fec3f25"
   },
   "outputs": [
    {
     "name": "stdout",
     "output_type": "stream",
     "text": [
      "6\n"
     ]
    },
    {
     "data": {
      "image/png": "[encoded data removed]",
      "text/plain": [
       "<Figure size 1080x720 with 2 Axes>"
      ]
     },
     "metadata": {
      "needs_background": "light"
     },
     "output_type": "display_data"
    }
   ],
   "source": [
    "index = random.randint(0,len(X_train)-1)\n",
    "image= X_train[index]\n",
    "label= y_train [index]\n",
    "bright_image = img_random_brightness(image)\n",
    "\n",
    "fig, axs = plt.subplots(1, 2, figsize=(15, 10))\n",
    "fig.tight_layout()\n",
    "axs[0].imshow(image)\n",
    "axs[0].set_title('Original Image')\n",
    "axs[1].imshow(bright_image)\n",
    "axs[1].set_title('Bright Image')\n",
    "\n",
    "print(label)"
   ]
  },
  {
   "cell_type": "code",
   "execution_count": 130,
   "metadata": {
    "id": "yNiKKsykjW_-"
   },
   "outputs": [],
   "source": [
    "def fillter(img):\n",
    "    kernel = cv2.getStructuringElement(cv2.MORPH_RECT, (5, 5))\n",
    "    gradient = cv2.morphologyEx(img, 4, kernel)\n",
    "    return gradient"
   ]
  },
  {
   "cell_type": "code",
   "execution_count": 131,
   "metadata": {
    "colab": {
     "base_uri": "https://localhost:8080/",
     "height": 594
    },
    "id": "TzaOU8m7jX5k",
    "outputId": "cc937f43-ac9f-4b59-cee4-8e2bd898cf1a"
   },
   "outputs": [
    {
     "name": "stdout",
     "output_type": "stream",
     "text": [
      "(32, 32, 3)\n",
      "20\n"
     ]
    },
    {
     "data": {
      "image/png": "[encoded data removed]",
      "text/plain": [
       "<Figure size 1080x720 with 2 Axes>"
      ]
     },
     "metadata": {
      "needs_background": "light"
     },
     "output_type": "display_data"
    }
   ],
   "source": [
    "index = random.randint(0,len(X_train)-1)\n",
    "image= X_train[index]\n",
    "label= y_train [index]\n",
    "bright_image = fillter(image)\n",
    "\n",
    "fig, axs = plt.subplots(1, 2, figsize=(15, 10))\n",
    "fig.tight_layout()\n",
    "axs[0].imshow(image)\n",
    "axs[0].set_title('Original Image')\n",
    "axs[1].imshow(bright_image)\n",
    "axs[1].set_title('Fillter Image')\n",
    "print(bright_image.shape)\n",
    "print(label)"
   ]
  },
  {
   "cell_type": "code",
   "execution_count": 132,
   "metadata": {
    "id": "owDGieNwTJ6N"
   },
   "outputs": [],
   "source": [
    "kernel = np.array([[0, -1, 0],[-1, 5,-1],[0, -1, 0]])\n",
    "def sharp(img):\n",
    "    image_sharp = cv2.filter2D(src=img, ddepth=-1, kernel=kernel)\n",
    "    return image_sharp"
   ]
  },
  {
   "cell_type": "code",
   "execution_count": 133,
   "metadata": {
    "colab": {
     "base_uri": "https://localhost:8080/",
     "height": 575
    },
    "id": "nKFEKJKQTKG3",
    "outputId": "9ae4efa2-25a3-4c5b-84e3-2e8a4f6a17a2"
   },
   "outputs": [
    {
     "name": "stdout",
     "output_type": "stream",
     "text": [
      "(32, 32, 3)\n"
     ]
    },
    {
     "data": {
      "image/png": "[encoded data removed]",
      "text/plain": [
       "<Figure size 1080x720 with 2 Axes>"
      ]
     },
     "metadata": {
      "needs_background": "light"
     },
     "output_type": "display_data"
    }
   ],
   "source": [
    "index = random.randint(0,len(X_train)-1)\n",
    "image= X_train[index]\n",
    "label= y_train [index]\n",
    "bright_image = sharp(image)\n",
    "\n",
    "fig, axs = plt.subplots(1, 2, figsize=(15, 10))\n",
    "fig.tight_layout()\n",
    "axs[0].imshow(image)\n",
    "axs[0].set_title('Original Image')\n",
    "axs[1].imshow(bright_image)\n",
    "axs[1].set_title('Sharp Image')\n",
    "print(bright_image.shape)"
   ]
  },
  {
   "cell_type": "code",
   "execution_count": 134,
   "metadata": {
    "id": "t0IoQJS5w8Uk"
   },
   "outputs": [],
   "source": [
    "augmented_zoom_image = []\n",
    "augmented_zoom_label = []\n",
    "\n",
    "for i in range(len(y_train)):\n",
    "  img = X_train[i]\n",
    "  label = y_train[i]\n",
    "  zoomed_img = zoom(img)\n",
    "  augmented_zoom_image.append(zoomed_img)\n",
    "  augmented_zoom_label.append(label)"
   ]
  },
  {
   "cell_type": "code",
   "execution_count": 135,
   "metadata": {
    "id": "ui8rgalgALe1"
   },
   "outputs": [],
   "source": [
    "augmented_pan_image = []\n",
    "augmented_pan_label = []\n",
    "\n",
    "for i in range(len(y_train)):\n",
    "  img = X_train[i]\n",
    "  label = y_train[i]\n",
    "  panned_img = pan(img)\n",
    "  augmented_pan_image.append(panned_img)\n",
    "  augmented_pan_label.append(label)"
   ]
  },
  {
   "cell_type": "code",
   "execution_count": 136,
   "metadata": {
    "id": "fyIa4DrfAdBX"
   },
   "outputs": [],
   "source": [
    "augmented_bright_image = []\n",
    "augmented_bright_label = []\n",
    "\n",
    "for i in range(len(y_train)):\n",
    "  img = X_train[i]\n",
    "  label = y_train[i]\n",
    "  bright_img = img_random_brightness(img)\n",
    "  augmented_bright_image.append(bright_img)\n",
    "  augmented_bright_label.append(label)"
   ]
  },
  {
   "cell_type": "code",
   "execution_count": 136,
   "metadata": {
    "id": "JqrpbAZGji9y"
   },
   "outputs": [],
   "source": []
  },
  {
   "cell_type": "code",
   "execution_count": 137,
   "metadata": {
    "id": "vfAbq_z3T37Q"
   },
   "outputs": [],
   "source": [
    "augmented_sharp_image = []\n",
    "augmented_sharp_label = []\n",
    "\n",
    "for i in range(len(y_train)):\n",
    "  img = X_train[i]\n",
    "  label = y_train[i]\n",
    "  sharp_img = sharp(img)\n",
    "  augmented_sharp_image.append(sharp_img)\n",
    "  augmented_sharp_label.append(label)"
   ]
  },
  {
   "cell_type": "code",
   "execution_count": 138,
   "metadata": {
    "colab": {
     "base_uri": "https://localhost:8080/"
    },
    "id": "G73CExSVAwtR",
    "outputId": "61dd926b-42b9-4fc4-dc76-8e3f2a2ad17f"
   },
   "outputs": [
    {
     "name": "stdout",
     "output_type": "stream",
     "text": [
      "Balanced Dataset Before Augmentation(Image): (10360, 32, 32, 3)\n",
      "Balanced Dataset Before Augmentation(Label): (10360,)\n",
      "Balanced Dataset After Augmentation(Image): (51800, 32, 32, 3)\n",
      "Balanced Dataset After Augmentation(Label): (51800,)\n"
     ]
    }
   ],
   "source": [
    "print('Balanced Dataset Before Augmentation(Image):', X_train.shape)\n",
    "print('Balanced Dataset Before Augmentation(Label):', y_train.shape)\n",
    "#change to np array\n",
    "augmented_zoom_image = np.array(augmented_zoom_image)\n",
    "augmented_pan_image = np.array(augmented_pan_image)\n",
    "augmented_bright_image = np.array(augmented_bright_image)\n",
    "augmented_fillter_image = np.array(augmented_fillter_image)\n",
    "augmented_sharp_image = np.array(augmented_sharp_image)\n",
    "X_train = np.array(X_train)\n",
    "#concatenate\n",
    "X_train = np.concatenate((X_train, augmented_zoom_image, augmented_pan_image, augmented_bright_image,augmented_sharp_image))\n",
    "\n",
    "\n",
    "#change to np array\n",
    "augmented_zoom_label = np.array(augmented_zoom_label) #250\n",
    "augmented_pan_label = np.array(augmented_pan_label) #250\n",
    "augmented_bright_label = np.array(augmented_bright_label) #250\n",
    "augmented_fillter_label = np.array(augmented_fillter_label)\n",
    "augmented_sharp_label = np.array(augmented_sharp_label)\n",
    "y_train = np.array(y_train) #250\n",
    "#concatenate\n",
    "y_train = np.concatenate((y_train, augmented_zoom_label, augmented_pan_label, augmented_bright_label,augmented_sharp_label))\n",
    "\n",
    "print('Balanced Dataset After Augmentation(Image):', X_train.shape)\n",
    "print('Balanced Dataset After Augmentation(Label):', y_train.shape)"
   ]
  },
  {
   "cell_type": "code",
   "execution_count": 139,
   "metadata": {
    "colab": {
     "base_uri": "https://localhost:8080/",
     "height": 295
    },
    "id": "zx2AauZuCMLw",
    "outputId": "39c30667-dea1-4243-b38e-7594e5a9cf53"
   },
   "outputs": [
    {
     "data": {
      "image/png": "[encoded data removed]",
      "text/plain": [
       "<Figure size 432x288 with 1 Axes>"
      ]
     },
     "metadata": {
      "needs_background": "light"
     },
     "output_type": "display_data"
    }
   ],
   "source": [
    "num_bins = 43\n",
    "plt.hist(y_train, bins =num_bins,rwidth=0.8)\n",
    "plt.title('Artificially Expanded Balanaced Dataset')\n",
    "plt.xlabel('Class Id')\n",
    "plt.ylabel('No.of Images')\n",
    "plt.show()"
   ]
  },
  {
   "cell_type": "markdown",
   "metadata": {
    "id": "FYS8ToUtETba"
   },
   "source": [
    "**3- Building a CNN on Tensorflow(Keras)**"
   ]
  },
  {
   "cell_type": "code",
   "execution_count": 4,
   "metadata": {
    "id": "JeNLdiE-DGe4"
   },
   "outputs": [],
   "source": [
    "import tensorflow as tf\n",
    "from tensorflow import keras\n",
    "from keras.models import Sequential\n",
    "from tensorflow.keras.optimizers import Adam\n",
    "from tensorflow.keras.regularizers import l2\n",
    "from tensorflow.keras.layers import Input, Conv2D , Dropout, MaxPool2D, Flatten, Dense,  Activation, BatchNormalization \n",
    "from keras.models import Model"
   ]
  },
  {
   "cell_type": "code",
   "execution_count": 141,
   "metadata": {
    "colab": {
     "base_uri": "https://localhost:8080/"
    },
    "id": "iA0XOYGXGzMm",
    "outputId": "b553c471-b1f0-415c-f554-87c282190317"
   },
   "outputs": [
    {
     "name": "stdout",
     "output_type": "stream",
     "text": [
      "(32, 32, 3)\n"
     ]
    }
   ],
   "source": [
    "print(X_train[1].shape)\n",
    "\n",
    "INPUT_SIZE = 32"
   ]
  },
  {
   "cell_type": "code",
   "execution_count": 142,
   "metadata": {
    "id": "DZ54-APuDmgg"
   },
   "outputs": [],
   "source": [
    "def CNN_model():\n",
    "  \n",
    "  model = Sequential()\n",
    "\n",
    "  #1st layer\n",
    "  model.add(Conv2D(24, kernel_size=(5,5), strides=(1,1), input_shape=(32, 32,3), activation='relu'))\n",
    "  model.add(BatchNormalization())\n",
    "  #2nd layer\n",
    "  model.add(Conv2D(36, kernel_size=(5,5), strides=(1,1), activation='relu'))\n",
    "  model.add(BatchNormalization())\n",
    "  #3rd layer\n",
    "  model.add(Conv2D(48, kernel_size=(5,5), strides=(1,1), activation='relu'))\n",
    "  model.add(BatchNormalization())\n",
    "  model.add(Dropout(0.25))\n",
    "  #4th layer\n",
    "  model.add(Conv2D(64, kernel_size=(3,3), activation='relu'))\n",
    "  model.add(BatchNormalization())\n",
    "  #5th layer\n",
    "  model.add(Conv2D(64, kernel_size=(3,3), activation='relu'))\n",
    "  model.add(BatchNormalization())\n",
    "  model.add(Dropout(0.25))\n",
    "\n",
    "  \n",
    "  model.add(Flatten())\n",
    "  \n",
    "  #1st Dense Layer  \n",
    "  model.add(Dense(250, activation='relu'))\n",
    "  model.add(BatchNormalization())\n",
    "  model.add(Dropout(0.5))\n",
    "\n",
    "  #2nd Dense Layer\n",
    "  model.add(Dense(125, activation='relu'))\n",
    "  model.add(BatchNormalization())\n",
    "  model.add(Dropout(0.5))\n",
    "\n",
    "  #3rd Dense Layer\n",
    "  model.add(Dense(75, activation='relu'))\n",
    "  model.add(BatchNormalization())\n",
    "  model.add(Dropout(0.5))\n",
    "\n",
    "  #output\n",
    "  model.add(Dense(43, activation='softmax'))\n",
    "  \n",
    "  #Compile model\n",
    "\n",
    "  model.compile(Adam(learning_rate=0.0001), loss = 'categorical_crossentropy', metrics = ['accuracy'])\n",
    "  return model"
   ]
  },
  {
   "cell_type": "code",
   "execution_count": 143,
   "metadata": {
    "id": "sLgdJ1DGERw_"
   },
   "outputs": [],
   "source": [
    "\n",
    "model = CNN_model()\n"
   ]
  },
  {
   "cell_type": "code",
   "execution_count": 144,
   "metadata": {
    "id": "5mhR7A674UJF"
   },
   "outputs": [],
   "source": [
    "def labels_to_one_hot(y_labels, num_classes):\n",
    "  matrix_eye = np.eye(num_classes)\n",
    "  y_labels_array = []\n",
    "  for i in range(len(y_labels)):\n",
    "    y_labels_array.append(matrix_eye[:,y_labels[i]])\n",
    "  return np.array(y_labels_array)"
   ]
  },
  {
   "cell_type": "code",
   "execution_count": 145,
   "metadata": {
    "id": "9X27AtKLJk49"
   },
   "outputs": [],
   "source": [
    "#change to hot encoded array!!\n",
    "y_train = labels_to_one_hot(y_train, 43)\n",
    "y_valid = labels_to_one_hot(y_valid, 43)\n",
    "\n"
   ]
  },
  {
   "cell_type": "code",
   "execution_count": 146,
   "metadata": {
    "colab": {
     "base_uri": "https://localhost:8080/"
    },
    "id": "IAQJdRKeWHdz",
    "outputId": "40a2e3fb-e6fb-4b53-d695-3cfe5d45c1e8"
   },
   "outputs": [
    {
     "name": "stdout",
     "output_type": "stream",
     "text": [
      "(51800, 43)\n",
      "(4410, 43)\n"
     ]
    }
   ],
   "source": [
    "print(y_train.shape)\n",
    "print(y_valid.shape)"
   ]
  },
  {
   "cell_type": "markdown",
   "metadata": {
    "id": "Fh2fE5CYEemd"
   },
   "source": [
    "**4- Training the CNN**"
   ]
  },
  {
   "cell_type": "code",
   "execution_count": 147,
   "metadata": {
    "colab": {
     "base_uri": "https://localhost:8080/"
    },
    "id": "H15XgoIe6eKD",
    "outputId": "76c1af12-801d-494a-b54b-5fc270cdb89d"
   },
   "outputs": [
    {
     "name": "stdout",
     "output_type": "stream",
     "text": [
      "Epoch 1/100\n",
      "1619/1619 [==============================] - 17s 10ms/step - loss: 3.3937 - accuracy: 0.1813 - val_loss: 1.4926 - val_accuracy: 0.6639\n",
      "Epoch 2/100\n",
      "1619/1619 [==============================] - 15s 9ms/step - loss: 1.9250 - accuracy: 0.4949 - val_loss: 0.6730 - val_accuracy: 0.8776\n",
      "Epoch 3/100\n",
      "1619/1619 [==============================] - 15s 9ms/step - loss: 1.2516 - accuracy: 0.6752 - val_loss: 0.2906 - val_accuracy: 0.9549\n",
      "Epoch 4/100\n",
      "1619/1619 [==============================] - 15s 9ms/step - loss: 0.8339 - accuracy: 0.7886 - val_loss: 0.1585 - val_accuracy: 0.9735\n",
      "Epoch 5/100\n",
      "1619/1619 [==============================] - 15s 9ms/step - loss: 0.5753 - accuracy: 0.8593 - val_loss: 0.0746 - val_accuracy: 0.9853\n",
      "Epoch 6/100\n",
      "1619/1619 [==============================] - 15s 9ms/step - loss: 0.4170 - accuracy: 0.8979 - val_loss: 0.0664 - val_accuracy: 0.9848\n",
      "Epoch 7/100\n",
      "1619/1619 [==============================] - 15s 9ms/step - loss: 0.3156 - accuracy: 0.9232 - val_loss: 0.0507 - val_accuracy: 0.9898\n",
      "Epoch 8/100\n",
      "1619/1619 [==============================] - 15s 9ms/step - loss: 0.2494 - accuracy: 0.9398 - val_loss: 0.0603 - val_accuracy: 0.9841\n",
      "Epoch 9/100\n",
      "1619/1619 [==============================] - 15s 9ms/step - loss: 0.1945 - accuracy: 0.9536 - val_loss: 0.0456 - val_accuracy: 0.9889\n",
      "Epoch 10/100\n",
      "1619/1619 [==============================] - 15s 9ms/step - loss: 0.1626 - accuracy: 0.9602 - val_loss: 0.0599 - val_accuracy: 0.9878\n",
      "Epoch 11/100\n",
      "1619/1619 [==============================] - 15s 9ms/step - loss: 0.1357 - accuracy: 0.9661 - val_loss: 0.0576 - val_accuracy: 0.9878\n",
      "Epoch 12/100\n",
      "1619/1619 [==============================] - 15s 9ms/step - loss: 0.1184 - accuracy: 0.9708 - val_loss: 0.0545 - val_accuracy: 0.9873\n",
      "Epoch 13/100\n",
      "1619/1619 [==============================] - 15s 9ms/step - loss: 0.1036 - accuracy: 0.9738 - val_loss: 0.0524 - val_accuracy: 0.9887\n",
      "Epoch 14/100\n",
      "1619/1619 [==============================] - 15s 9ms/step - loss: 0.0927 - accuracy: 0.9768 - val_loss: 0.0626 - val_accuracy: 0.9850\n",
      "Epoch 15/100\n",
      "1619/1619 [==============================] - 15s 9ms/step - loss: 0.0802 - accuracy: 0.9801 - val_loss: 0.0580 - val_accuracy: 0.9880\n",
      "Epoch 16/100\n",
      "1619/1619 [==============================] - 15s 9ms/step - loss: 0.0728 - accuracy: 0.9810 - val_loss: 0.0505 - val_accuracy: 0.9871\n",
      "Epoch 17/100\n",
      "1619/1619 [==============================] - 15s 9ms/step - loss: 0.0647 - accuracy: 0.9834 - val_loss: 0.0473 - val_accuracy: 0.9891\n",
      "Epoch 18/100\n",
      "1619/1619 [==============================] - 15s 9ms/step - loss: 0.0613 - accuracy: 0.9842 - val_loss: 0.0352 - val_accuracy: 0.9912\n",
      "Epoch 19/100\n",
      "1619/1619 [==============================] - 15s 9ms/step - loss: 0.0589 - accuracy: 0.9847 - val_loss: 0.0500 - val_accuracy: 0.9907\n",
      "Epoch 20/100\n",
      "1619/1619 [==============================] - 15s 9ms/step - loss: 0.0549 - accuracy: 0.9852 - val_loss: 0.0559 - val_accuracy: 0.9893\n",
      "Epoch 21/100\n",
      "1619/1619 [==============================] - 15s 9ms/step - loss: 0.0497 - accuracy: 0.9868 - val_loss: 0.0644 - val_accuracy: 0.9882\n",
      "Epoch 22/100\n",
      "1619/1619 [==============================] - 15s 9ms/step - loss: 0.0474 - accuracy: 0.9869 - val_loss: 0.0347 - val_accuracy: 0.9921\n",
      "Epoch 23/100\n",
      "1619/1619 [==============================] - 15s 9ms/step - loss: 0.0424 - accuracy: 0.9890 - val_loss: 0.0564 - val_accuracy: 0.9893\n",
      "Epoch 24/100\n",
      "1619/1619 [==============================] - 15s 9ms/step - loss: 0.0439 - accuracy: 0.9885 - val_loss: 0.0569 - val_accuracy: 0.9896\n",
      "Epoch 25/100\n",
      "1619/1619 [==============================] - 15s 9ms/step - loss: 0.0401 - accuracy: 0.9895 - val_loss: 0.0468 - val_accuracy: 0.9916\n",
      "Epoch 26/100\n",
      "1619/1619 [==============================] - 15s 9ms/step - loss: 0.0353 - accuracy: 0.9904 - val_loss: 0.0571 - val_accuracy: 0.9900\n",
      "Epoch 27/100\n",
      "1619/1619 [==============================] - 15s 9ms/step - loss: 0.0354 - accuracy: 0.9907 - val_loss: 0.0755 - val_accuracy: 0.9855\n",
      "Epoch 28/100\n",
      "1619/1619 [==============================] - 15s 9ms/step - loss: 0.0350 - accuracy: 0.9907 - val_loss: 0.0656 - val_accuracy: 0.9859\n",
      "Epoch 29/100\n",
      "1619/1619 [==============================] - 15s 9ms/step - loss: 0.0338 - accuracy: 0.9909 - val_loss: 0.0537 - val_accuracy: 0.9898\n",
      "Epoch 30/100\n",
      "1619/1619 [==============================] - 15s 9ms/step - loss: 0.0301 - accuracy: 0.9924 - val_loss: 0.0385 - val_accuracy: 0.9925\n",
      "Epoch 31/100\n",
      "1619/1619 [==============================] - 15s 9ms/step - loss: 0.0308 - accuracy: 0.9921 - val_loss: 0.0535 - val_accuracy: 0.9898\n",
      "Epoch 32/100\n",
      "1619/1619 [==============================] - 15s 9ms/step - loss: 0.0271 - accuracy: 0.9929 - val_loss: 0.0390 - val_accuracy: 0.9930\n",
      "Epoch 33/100\n",
      "1619/1619 [==============================] - 15s 9ms/step - loss: 0.0290 - accuracy: 0.9918 - val_loss: 0.0404 - val_accuracy: 0.9909\n",
      "Epoch 34/100\n",
      "1619/1619 [==============================] - 15s 9ms/step - loss: 0.0266 - accuracy: 0.9933 - val_loss: 0.0381 - val_accuracy: 0.9923\n",
      "Epoch 35/100\n",
      "1619/1619 [==============================] - 15s 9ms/step - loss: 0.0291 - accuracy: 0.9921 - val_loss: 0.0701 - val_accuracy: 0.9900\n",
      "Epoch 36/100\n",
      "1619/1619 [==============================] - 15s 9ms/step - loss: 0.0253 - accuracy: 0.9931 - val_loss: 0.0352 - val_accuracy: 0.9921\n",
      "Epoch 37/100\n",
      "1619/1619 [==============================] - 15s 9ms/step - loss: 0.0241 - accuracy: 0.9931 - val_loss: 0.0567 - val_accuracy: 0.9907\n",
      "Epoch 38/100\n",
      "1619/1619 [==============================] - 15s 9ms/step - loss: 0.0249 - accuracy: 0.9935 - val_loss: 0.0484 - val_accuracy: 0.9900\n",
      "Epoch 39/100\n",
      "1619/1619 [==============================] - 15s 9ms/step - loss: 0.0236 - accuracy: 0.9936 - val_loss: 0.0379 - val_accuracy: 0.9923\n",
      "Epoch 40/100\n",
      "1619/1619 [==============================] - 15s 9ms/step - loss: 0.0231 - accuracy: 0.9939 - val_loss: 0.0596 - val_accuracy: 0.9902\n",
      "Epoch 41/100\n",
      "1619/1619 [==============================] - 15s 9ms/step - loss: 0.0221 - accuracy: 0.9940 - val_loss: 0.0372 - val_accuracy: 0.9918\n",
      "Epoch 42/100\n",
      "1619/1619 [==============================] - 15s 9ms/step - loss: 0.0215 - accuracy: 0.9940 - val_loss: 0.0478 - val_accuracy: 0.9907\n",
      "Epoch 43/100\n",
      "1619/1619 [==============================] - 15s 9ms/step - loss: 0.0193 - accuracy: 0.9950 - val_loss: 0.0477 - val_accuracy: 0.9864\n",
      "Epoch 44/100\n",
      "1619/1619 [==============================] - 15s 9ms/step - loss: 0.0230 - accuracy: 0.9939 - val_loss: 0.0472 - val_accuracy: 0.9912\n",
      "Epoch 45/100\n",
      "1619/1619 [==============================] - 15s 9ms/step - loss: 0.0195 - accuracy: 0.9948 - val_loss: 0.0376 - val_accuracy: 0.9934\n",
      "Epoch 46/100\n",
      "1619/1619 [==============================] - 15s 9ms/step - loss: 0.0205 - accuracy: 0.9945 - val_loss: 0.0370 - val_accuracy: 0.9923\n",
      "Epoch 47/100\n",
      "1619/1619 [==============================] - 15s 9ms/step - loss: 0.0189 - accuracy: 0.9948 - val_loss: 0.0493 - val_accuracy: 0.9914\n",
      "Epoch 48/100\n",
      "1619/1619 [==============================] - 15s 9ms/step - loss: 0.0174 - accuracy: 0.9951 - val_loss: 0.0487 - val_accuracy: 0.9912\n",
      "Epoch 49/100\n",
      "1619/1619 [==============================] - 15s 9ms/step - loss: 0.0184 - accuracy: 0.9947 - val_loss: 0.0584 - val_accuracy: 0.9891\n",
      "Epoch 50/100\n",
      "1619/1619 [==============================] - 15s 9ms/step - loss: 0.0223 - accuracy: 0.9941 - val_loss: 0.0374 - val_accuracy: 0.9927\n",
      "Epoch 51/100\n",
      "1619/1619 [==============================] - 15s 9ms/step - loss: 0.0190 - accuracy: 0.9949 - val_loss: 0.0822 - val_accuracy: 0.9875\n",
      "Epoch 52/100\n",
      "1619/1619 [==============================] - 15s 9ms/step - loss: 0.0183 - accuracy: 0.9951 - val_loss: 0.0346 - val_accuracy: 0.9927\n",
      "Epoch 53/100\n",
      "1619/1619 [==============================] - 15s 9ms/step - loss: 0.0165 - accuracy: 0.9958 - val_loss: 0.0567 - val_accuracy: 0.9907\n",
      "Epoch 54/100\n",
      "1619/1619 [==============================] - 15s 9ms/step - loss: 0.0162 - accuracy: 0.9955 - val_loss: 0.0513 - val_accuracy: 0.9907\n",
      "Epoch 55/100\n",
      "1619/1619 [==============================] - 15s 9ms/step - loss: 0.0150 - accuracy: 0.9960 - val_loss: 0.0568 - val_accuracy: 0.9905\n",
      "Epoch 56/100\n",
      "1619/1619 [==============================] - 15s 9ms/step - loss: 0.0169 - accuracy: 0.9956 - val_loss: 0.0346 - val_accuracy: 0.9918\n",
      "Epoch 57/100\n",
      "1619/1619 [==============================] - 15s 9ms/step - loss: 0.0140 - accuracy: 0.9962 - val_loss: 0.1018 - val_accuracy: 0.9859\n",
      "Epoch 58/100\n",
      "1619/1619 [==============================] - 15s 9ms/step - loss: 0.0152 - accuracy: 0.9958 - val_loss: 0.0471 - val_accuracy: 0.9918\n",
      "Epoch 59/100\n",
      "1619/1619 [==============================] - 15s 9ms/step - loss: 0.0165 - accuracy: 0.9956 - val_loss: 0.0421 - val_accuracy: 0.9905\n",
      "Epoch 60/100\n",
      "1619/1619 [==============================] - 15s 9ms/step - loss: 0.0130 - accuracy: 0.9965 - val_loss: 0.0325 - val_accuracy: 0.9943\n",
      "Epoch 61/100\n",
      "1619/1619 [==============================] - 15s 9ms/step - loss: 0.0158 - accuracy: 0.9954 - val_loss: 0.0538 - val_accuracy: 0.9914\n",
      "Epoch 62/100\n",
      "1619/1619 [==============================] - 15s 9ms/step - loss: 0.0136 - accuracy: 0.9962 - val_loss: 0.0550 - val_accuracy: 0.9907\n",
      "Epoch 63/100\n",
      "1619/1619 [==============================] - 15s 9ms/step - loss: 0.0148 - accuracy: 0.9961 - val_loss: 0.0368 - val_accuracy: 0.9927\n",
      "Epoch 64/100\n",
      "1619/1619 [==============================] - 15s 9ms/step - loss: 0.0122 - accuracy: 0.9966 - val_loss: 0.0282 - val_accuracy: 0.9934\n",
      "Epoch 65/100\n",
      "1619/1619 [==============================] - 15s 9ms/step - loss: 0.0145 - accuracy: 0.9962 - val_loss: 0.0391 - val_accuracy: 0.9937\n",
      "Epoch 66/100\n",
      "1619/1619 [==============================] - 15s 9ms/step - loss: 0.0121 - accuracy: 0.9964 - val_loss: 0.0418 - val_accuracy: 0.9916\n",
      "Epoch 67/100\n",
      "1619/1619 [==============================] - 15s 9ms/step - loss: 0.0121 - accuracy: 0.9967 - val_loss: 0.0463 - val_accuracy: 0.9916\n",
      "Epoch 68/100\n",
      "1619/1619 [==============================] - 15s 9ms/step - loss: 0.0132 - accuracy: 0.9963 - val_loss: 0.0631 - val_accuracy: 0.9912\n",
      "Epoch 69/100\n",
      "1619/1619 [==============================] - 15s 9ms/step - loss: 0.0113 - accuracy: 0.9966 - val_loss: 0.0536 - val_accuracy: 0.9918\n",
      "Epoch 70/100\n",
      "1619/1619 [==============================] - 15s 9ms/step - loss: 0.0131 - accuracy: 0.9965 - val_loss: 0.0519 - val_accuracy: 0.9921\n",
      "Epoch 71/100\n",
      "1619/1619 [==============================] - 15s 9ms/step - loss: 0.0121 - accuracy: 0.9968 - val_loss: 0.0633 - val_accuracy: 0.9909\n",
      "Epoch 72/100\n",
      "1619/1619 [==============================] - 15s 9ms/step - loss: 0.0121 - accuracy: 0.9964 - val_loss: 0.0495 - val_accuracy: 0.9914\n",
      "Epoch 73/100\n",
      "1619/1619 [==============================] - 15s 9ms/step - loss: 0.0122 - accuracy: 0.9967 - val_loss: 0.0392 - val_accuracy: 0.9930\n",
      "Epoch 74/100\n",
      "1619/1619 [==============================] - 15s 9ms/step - loss: 0.0115 - accuracy: 0.9969 - val_loss: 0.0394 - val_accuracy: 0.9932\n",
      "Epoch 75/100\n",
      "1619/1619 [==============================] - 15s 9ms/step - loss: 0.0096 - accuracy: 0.9971 - val_loss: 0.0589 - val_accuracy: 0.9902\n",
      "Epoch 76/100\n",
      "1619/1619 [==============================] - 15s 9ms/step - loss: 0.0114 - accuracy: 0.9971 - val_loss: 0.0473 - val_accuracy: 0.9914\n",
      "Epoch 77/100\n",
      "1619/1619 [==============================] - 15s 9ms/step - loss: 0.0134 - accuracy: 0.9968 - val_loss: 0.0600 - val_accuracy: 0.9912\n",
      "Epoch 78/100\n",
      "1619/1619 [==============================] - 15s 9ms/step - loss: 0.0110 - accuracy: 0.9970 - val_loss: 0.0382 - val_accuracy: 0.9937\n",
      "Epoch 80/100\n",
      "1619/1619 [==============================] - 15s 9ms/step - loss: 0.0098 - accuracy: 0.9971 - val_loss: 0.0441 - val_accuracy: 0.9927\n",
      "Epoch 81/100\n",
      "1619/1619 [==============================] - 15s 9ms/step - loss: 0.0095 - accuracy: 0.9972 - val_loss: 0.0451 - val_accuracy: 0.9914\n",
      "Epoch 82/100\n",
      "1619/1619 [==============================] - 15s 9ms/step - loss: 0.0108 - accuracy: 0.9970 - val_loss: 0.0447 - val_accuracy: 0.9925\n",
      "Epoch 83/100\n",
      "1619/1619 [==============================] - 15s 9ms/step - loss: 0.0120 - accuracy: 0.9967 - val_loss: 0.0424 - val_accuracy: 0.9921\n",
      "Epoch 84/100\n",
      "1619/1619 [==============================] - 15s 9ms/step - loss: 0.0101 - accuracy: 0.9975 - val_loss: 0.0424 - val_accuracy: 0.9907\n",
      "Epoch 85/100\n",
      "1619/1619 [==============================] - 15s 9ms/step - loss: 0.0094 - accuracy: 0.9973 - val_loss: 0.0476 - val_accuracy: 0.9916\n",
      "Epoch 86/100\n",
      "1619/1619 [==============================] - 15s 9ms/step - loss: 0.0122 - accuracy: 0.9969 - val_loss: 0.0307 - val_accuracy: 0.9943\n",
      "Epoch 87/100\n",
      "1619/1619 [==============================] - 15s 9ms/step - loss: 0.0098 - accuracy: 0.9978 - val_loss: 0.0370 - val_accuracy: 0.9934\n",
      "Epoch 88/100\n",
      "1619/1619 [==============================] - 15s 9ms/step - loss: 0.0101 - accuracy: 0.9974 - val_loss: 0.0403 - val_accuracy: 0.9921\n",
      "Epoch 89/100\n",
      "1619/1619 [==============================] - 15s 9ms/step - loss: 0.0118 - accuracy: 0.9967 - val_loss: 0.0354 - val_accuracy: 0.9927\n",
      "Epoch 90/100\n",
      "1619/1619 [==============================] - 15s 9ms/step - loss: 0.0098 - accuracy: 0.9974 - val_loss: 0.0325 - val_accuracy: 0.9937\n",
      "Epoch 91/100\n",
      "1619/1619 [==============================] - 15s 9ms/step - loss: 0.0094 - accuracy: 0.9973 - val_loss: 0.0358 - val_accuracy: 0.9939\n",
      "Epoch 92/100\n",
      "1619/1619 [==============================] - 15s 9ms/step - loss: 0.0107 - accuracy: 0.9969 - val_loss: 0.0282 - val_accuracy: 0.9937\n",
      "Epoch 93/100\n",
      "1619/1619 [==============================] - 15s 9ms/step - loss: 0.0094 - accuracy: 0.9973 - val_loss: 0.0432 - val_accuracy: 0.9927\n",
      "Epoch 94/100\n",
      "1619/1619 [==============================] - 15s 9ms/step - loss: 0.0114 - accuracy: 0.9972 - val_loss: 0.0426 - val_accuracy: 0.9930\n",
      "Epoch 95/100\n",
      "1619/1619 [==============================] - 15s 9ms/step - loss: 0.0099 - accuracy: 0.9972 - val_loss: 0.0383 - val_accuracy: 0.9934\n",
      "Epoch 96/100\n",
      "1619/1619 [==============================] - 15s 9ms/step - loss: 0.0121 - accuracy: 0.9966 - val_loss: 0.0508 - val_accuracy: 0.9916\n",
      "Epoch 97/100\n",
      "1619/1619 [==============================] - 15s 9ms/step - loss: 0.0091 - accuracy: 0.9975 - val_loss: 0.0465 - val_accuracy: 0.9932\n",
      "Epoch 98/100\n",
      "1619/1619 [==============================] - 15s 9ms/step - loss: 0.0083 - accuracy: 0.9977 - val_loss: 0.0343 - val_accuracy: 0.9937\n",
      "Epoch 99/100\n",
      "1619/1619 [==============================] - 15s 9ms/step - loss: 0.0086 - accuracy: 0.9977 - val_loss: 0.0565 - val_accuracy: 0.9902\n",
      "Epoch 100/100\n",
      "1619/1619 [==============================] - 15s 9ms/step - loss: 0.0088 - accuracy: 0.9972 - val_loss: 0.0348 - val_accuracy: 0.9927\n"
     ]
    }
   ],
   "source": [
    "history = model.fit(x=X_train, y=y_train, batch_size=32, epochs=100, verbose=1, validation_data=(X_valid, y_valid),shuffle=True)"
   ]
  },
  {
   "cell_type": "code",
   "execution_count": 148,
   "metadata": {
    "colab": {
     "base_uri": "https://localhost:8080/",
     "height": 531
    },
    "id": "VBbqyc-j6o8Q",
    "outputId": "418cb435-7c8b-4bfa-b60a-1396d1343015"
   },
   "outputs": [
    {
     "data": {
      "text/plain": [
       "Text(0.5, 0, 'epoch')"
      ]
     },
     "execution_count": 148,
     "metadata": {},
     "output_type": "execute_result"
    },
    {
     "data": {
      "image/png": "[encoded data removed]",
      "text/plain": [
       "<Figure size 576x576 with 1 Axes>"
      ]
     },
     "metadata": {
      "needs_background": "light"
     },
     "output_type": "display_data"
    }
   ],
   "source": [
    "plt.rcParams[\"figure.figsize\"] = (8,8)\n",
    "plt.plot(history.history['accuracy'])\n",
    "plt.plot(history.history['val_accuracy'])\n",
    "plt.legend(['training', 'validation'])\n",
    "plt.title('Accuracy')\n",
    "plt.xlabel('epoch')"
   ]
  },
  {
   "cell_type": "code",
   "execution_count": 149,
   "metadata": {
    "colab": {
     "base_uri": "https://localhost:8080/",
     "height": 531
    },
    "id": "mzsD82w861rg",
    "outputId": "ad71b650-acfb-483d-f494-e94d61064607"
   },
   "outputs": [
    {
     "data": {
      "text/plain": [
       "Text(0.5, 0, 'epoch')"
      ]
     },
     "execution_count": 149,
     "metadata": {},
     "output_type": "execute_result"
    },
    {
     "data": {
      "image/png": "[encoded data removed]",
      "text/plain": [
       "<Figure size 576x576 with 1 Axes>"
      ]
     },
     "metadata": {
      "needs_background": "light"
     },
     "output_type": "display_data"
    }
   ],
   "source": [
    "plt.rcParams[\"figure.figsize\"] = (8,8)\n",
    "plt.plot(history.history['loss'])\n",
    "plt.plot(history.history['val_loss'])\n",
    "plt.legend(['training', 'validation'])\n",
    "plt.title('Loss')\n",
    "plt.xlabel('epoch')"
   ]
  },
  {
   "cell_type": "code",
   "execution_count": 150,
   "metadata": {
    "colab": {
     "base_uri": "https://localhost:8080/"
    },
    "id": "BKQ_Zra_SA5v",
    "outputId": "94e3943c-6bf6-42ea-d034-dfc853ee137e"
   },
   "outputs": [
    {
     "name": "stdout",
     "output_type": "stream",
     "text": [
      "(12630, 32, 32, 3)\n",
      "(12630,)\n"
     ]
    }
   ],
   "source": [
    "X_test = test['features']\n",
    "y_test = test['labels']\n",
    "\n",
    "X_test = np.array(X_test)\n",
    "y_test = np.array(y_test)\n",
    "\n",
    "print(X_test.shape)\n",
    "print(y_test.shape)\n",
    "\n",
    "y_test = labels_to_one_hot(y_test, 43)"
   ]
  },
  {
   "cell_type": "code",
   "execution_count": 160,
   "metadata": {
    "colab": {
     "base_uri": "https://localhost:8080/",
     "height": 520
    },
    "id": "N33eOCc-N-1O",
    "outputId": "ee0601b4-99cc-4bbf-d306-b46a43292e13"
   },
   "outputs": [
    {
     "name": "stdout",
     "output_type": "stream",
     "text": [
      "Actual:  17\n",
      "Prediction:  17\n"
     ]
    },
    {
     "data": {
      "image/png": "[encoded data removed]",
      "text/plain": [
       "<Figure size 576x576 with 1 Axes>"
      ]
     },
     "metadata": {
      "needs_background": "light"
     },
     "output_type": "display_data"
    }
   ],
   "source": [
    "index = random.randint(0,len(X_test)-1)\n",
    "img_testing = X_test[index]\n",
    "label_testing = y_test[index]\n",
    "\n",
    "plt.imshow(img_testing)\n",
    "print (\"Actual: \", np.argmax(label_testing))\n",
    "img_testing = img_testing.reshape(-1, 32,32,3)\n",
    "\n",
    "print (\"Prediction: \", np.argmax(model.predict(img_testing)))"
   ]
  },
  {
   "cell_type": "markdown",
   "metadata": {
    "id": "GOMxsqFREnm-"
   },
   "source": [
    "**5- Evaluate and Save the Trained Model**"
   ]
  },
  {
   "cell_type": "code",
   "execution_count": 161,
   "metadata": {
    "colab": {
     "base_uri": "https://localhost:8080/"
    },
    "id": "7qlYQ7s_6743",
    "outputId": "f366d342-fee1-4429-8c64-0bb85204f5a3"
   },
   "outputs": [
    {
     "name": "stdout",
     "output_type": "stream",
     "text": [
      "Evaluate on test data\n",
      "395/395 [==============================] - 2s 5ms/step - loss: 0.0679 - accuracy: 0.9858\n",
      "test loss, test acc: [0.06789077818393707, 0.9858273863792419]\n"
     ]
    }
   ],
   "source": [
    "# Evaluate the model on the test data using `evaluate`\n",
    "print(\"Evaluate on test data\")\n",
    "results = model.evaluate(X_test, y_test)\n",
    "print(\"test loss, test acc:\", results)"
   ]
  },
  {
   "cell_type": "code",
   "execution_count": 162,
   "metadata": {
    "id": "erQF82IDSoRw"
   },
   "outputs": [],
   "source": [
    "model.save('/content/drive/MyDrive/classify/TSR.h5')"
   ]
  },
  {
   "cell_type": "markdown",
   "metadata": {
    "id": "ONwgBmGkgq71"
   },
   "source": [
    "***Fine Tuneing***"
   ]
  },
  {
   "cell_type": "code",
   "execution_count": 163,
   "metadata": {
    "colab": {
     "base_uri": "https://localhost:8080/"
    },
    "id": "-NQolw90gSHO",
    "outputId": "cec0a1bf-a678-4e74-a1b4-c0fa57e4d969"
   },
   "outputs": [
    {
     "name": "stdout",
     "output_type": "stream",
     "text": [
      "Epoch 1/10\n",
      "1619/1619 [==============================] - 17s 9ms/step - loss: 0.0075 - accuracy: 0.9979 - val_loss: 0.0350 - val_accuracy: 0.9925\n",
      "Epoch 2/10\n",
      "1619/1619 [==============================] - 15s 9ms/step - loss: 0.0062 - accuracy: 0.9981 - val_loss: 0.0383 - val_accuracy: 0.9930\n",
      "Epoch 3/10\n",
      "1619/1619 [==============================] - 15s 9ms/step - loss: 0.0058 - accuracy: 0.9984 - val_loss: 0.0343 - val_accuracy: 0.9934\n",
      "Epoch 4/10\n",
      "1619/1619 [==============================] - 15s 10ms/step - loss: 0.0052 - accuracy: 0.9983 - val_loss: 0.0363 - val_accuracy: 0.9934\n",
      "Epoch 5/10\n",
      "1619/1619 [==============================] - 15s 9ms/step - loss: 0.0047 - accuracy: 0.9987 - val_loss: 0.0333 - val_accuracy: 0.9939\n",
      "Epoch 6/10\n",
      "1619/1619 [==============================] - 15s 9ms/step - loss: 0.0050 - accuracy: 0.9987 - val_loss: 0.0333 - val_accuracy: 0.9943\n",
      "Epoch 7/10\n",
      "1619/1619 [==============================] - 15s 9ms/step - loss: 0.0047 - accuracy: 0.9987 - val_loss: 0.0331 - val_accuracy: 0.9943\n",
      "Epoch 8/10\n",
      "1619/1619 [==============================] - 15s 9ms/step - loss: 0.0044 - accuracy: 0.9988 - val_loss: 0.0380 - val_accuracy: 0.9939\n",
      "Epoch 9/10\n",
      "1619/1619 [==============================] - 16s 10ms/step - loss: 0.0048 - accuracy: 0.9986 - val_loss: 0.0379 - val_accuracy: 0.9939\n",
      "Epoch 10/10\n",
      "1619/1619 [==============================] - 15s 9ms/step - loss: 0.0041 - accuracy: 0.9987 - val_loss: 0.0384 - val_accuracy: 0.9939\n"
     ]
    }
   ],
   "source": [
    "model.compile(Adam(learning_rate=0.00001), loss = 'categorical_crossentropy', metrics = ['accuracy'])\n",
    "history = model.fit(x=X_train, y=y_train, batch_size=32, epochs=10, verbose=1, validation_data=(X_valid, y_valid),shuffle=True)"
   ]
  },
  {
   "cell_type": "code",
   "execution_count": 164,
   "metadata": {
    "colab": {
     "base_uri": "https://localhost:8080/"
    },
    "id": "shdsQYSWgSP_",
    "outputId": "2c7ce548-8cc1-489a-a688-3d4d1124378c"
   },
   "outputs": [
    {
     "name": "stdout",
     "output_type": "stream",
     "text": [
      "Evaluate on test data\n",
      "395/395 [==============================] - 2s 4ms/step - loss: 0.0651 - accuracy: 0.9878\n",
      "test loss, test acc: [0.06510385870933533, 0.9878067970275879]\n"
     ]
    }
   ],
   "source": [
    "# Evaluate the model on the test data using `evaluate`\n",
    "print(\"Evaluate on test data\")\n",
    "results = model.evaluate(X_test, y_test)\n",
    "print(\"test loss, test acc:\", results)"
   ]
  },
  {
   "cell_type": "code",
   "execution_count": 165,
   "metadata": {
    "colab": {
     "base_uri": "https://localhost:8080/"
    },
    "id": "mIVlZiNshXY8",
    "outputId": "4237a734-11af-435c-94ff-0cea49139dbf"
   },
   "outputs": [
    {
     "name": "stdout",
     "output_type": "stream",
     "text": [
      "Epoch 1/10\n",
      "1619/1619 [==============================] - 17s 10ms/step - loss: 0.0045 - accuracy: 0.9987 - val_loss: 0.0387 - val_accuracy: 0.9939\n",
      "Epoch 2/10\n",
      "1619/1619 [==============================] - 15s 10ms/step - loss: 0.0039 - accuracy: 0.9991 - val_loss: 0.0390 - val_accuracy: 0.9941\n",
      "Epoch 3/10\n",
      "1619/1619 [==============================] - 15s 9ms/step - loss: 0.0045 - accuracy: 0.9989 - val_loss: 0.0393 - val_accuracy: 0.9934\n",
      "Epoch 4/10\n",
      "1619/1619 [==============================] - 15s 9ms/step - loss: 0.0048 - accuracy: 0.9986 - val_loss: 0.0394 - val_accuracy: 0.9939\n",
      "Epoch 5/10\n",
      "1619/1619 [==============================] - 15s 9ms/step - loss: 0.0041 - accuracy: 0.9990 - val_loss: 0.0390 - val_accuracy: 0.9937\n",
      "Epoch 6/10\n",
      "1619/1619 [==============================] - 15s 9ms/step - loss: 0.0035 - accuracy: 0.9991 - val_loss: 0.0391 - val_accuracy: 0.9939\n",
      "Epoch 7/10\n",
      "1619/1619 [==============================] - 15s 9ms/step - loss: 0.0041 - accuracy: 0.9989 - val_loss: 0.0386 - val_accuracy: 0.9941\n",
      "Epoch 8/10\n",
      "1619/1619 [==============================] - 15s 9ms/step - loss: 0.0040 - accuracy: 0.9991 - val_loss: 0.0382 - val_accuracy: 0.9939\n",
      "Epoch 9/10\n",
      "1619/1619 [==============================] - 15s 9ms/step - loss: 0.0052 - accuracy: 0.9985 - val_loss: 0.0370 - val_accuracy: 0.9939\n",
      "Epoch 10/10\n",
      "1619/1619 [==============================] - 15s 9ms/step - loss: 0.0038 - accuracy: 0.9990 - val_loss: 0.0369 - val_accuracy: 0.9939\n"
     ]
    }
   ],
   "source": [
    "model.compile(Adam(learning_rate=0.000001), loss = 'categorical_crossentropy', metrics = ['accuracy'])\n",
    "history = model.fit(x=X_train, y=y_train, batch_size=32, epochs=10, verbose=1, validation_data=(X_valid, y_valid),shuffle=True)"
   ]
  },
  {
   "cell_type": "code",
   "execution_count": 166,
   "metadata": {
    "colab": {
     "base_uri": "https://localhost:8080/"
    },
    "id": "LJf2s8PJhX6h",
    "outputId": "10f430f8-5d7f-4d31-9c37-0fd17028afd5"
   },
   "outputs": [
    {
     "name": "stdout",
     "output_type": "stream",
     "text": [
      "Evaluate on test data\n",
      "395/395 [==============================] - 1s 4ms/step - loss: 0.0624 - accuracy: 0.9882\n",
      "test loss, test acc: [0.06242656335234642, 0.988202691078186]\n"
     ]
    }
   ],
   "source": [
    "# Evaluate the model on the test data using `evaluate`\n",
    "print(\"Evaluate on test data\")\n",
    "results = model.evaluate(X_test, y_test)\n",
    "print(\"test loss, test acc:\", results)"
   ]
  },
  {
   "cell_type": "code",
   "execution_count": null,
   "metadata": {},
   "outputs": [],
   "source": [
    "model.save('/content/drive/MyDrive/classify/TSR_FT.h5')"
   ]
  },
  {
   "cell_type": "markdown",
   "metadata": {
    "id": "svF5ivEWjpMX"
   },
   "source": [
    "#    "
   ]
  },
  {
   "cell_type": "markdown",
   "metadata": {},
   "source": [
    "#   "
   ]
  },
  {
   "cell_type": "markdown",
   "metadata": {},
   "source": [
    "## Testing the Model in Video"
   ]
  },
  {
   "cell_type": "code",
   "execution_count": 4,
   "metadata": {},
   "outputs": [
    {
     "name": "stdout",
     "output_type": "stream",
     "text": [
      "fps:  0.13\n",
      "fps:  0.14\n",
      "fps:  0.15\n",
      "fps:  0.15\n",
      "fps:  0.15\n",
      "fps:  0.16\n",
      "fps:  0.16\n",
      "fps:  0.16\n",
      "fps:  0.16\n",
      "fps:  0.16\n",
      "fps:  0.16\n",
      "fps:  0.16\n",
      "fps:  0.16\n",
      "fps:  0.16\n",
      "fps:  0.16\n",
      "fps:  0.16\n",
      "fps:  0.15\n",
      "fps:  0.15\n",
      "fps:  0.15\n",
      "fps:  0.14\n",
      "fps:  0.14\n",
      "fps:  0.14\n",
      "fps:  0.14\n",
      "fps:  0.13\n",
      "fps:  0.13\n",
      "fps:  0.13\n",
      "fps:  0.13\n",
      "fps:  0.13\n",
      "fps:  0.14\n",
      "fps:  0.14\n",
      "fps:  0.14\n",
      "fps:  0.14\n",
      "fps:  0.14\n",
      "fps:  0.14\n"
     ]
    }
   ],
   "source": [
    "#Import Relevant Libraries\n",
    "import numpy as np\n",
    "import cv2\n",
    "import time\n",
    "from tensorflow.keras.models import load_model\n",
    "import pyttsx3 as py\n",
    "\n",
    "def main():\n",
    "    HEIGHT = 32\n",
    "    WIDTH = 32\n",
    "    \n",
    "    net = cv2.dnn.readNet(\"yolov3.weights\", \"yolov3.cfg\")\n",
    "    \n",
    "    classes = []\n",
    "    with open(\"signs.names.txt\", \"r\") as f:\n",
    "        classes = [line.strip() for line in f.readlines()]\n",
    "        \n",
    "    ####################\n",
    "    sound = py.init()\n",
    "    ####################\n",
    "    \n",
    "    #get last layers names\n",
    "    layer_names = net.getLayerNames()\n",
    "    unconnected_indices = net.getUnconnectedOutLayers()\n",
    "    output_layers = [layer_names[index - 1] for index in unconnected_indices]\n",
    "    #output_layers = [layer_names[i[0] - 1] for i in net.getUnconnectedOutLayers()]\n",
    "                     \n",
    "    colors = np.random.uniform(0, 255, size=(len(classes), 3))\n",
    "    check_time = True\n",
    "    confidence_threshold = 0.5\n",
    "    font = cv2.FONT_HERSHEY_SIMPLEX\n",
    "    start_time = time.time()\n",
    "    frame_count = 0\n",
    "\n",
    "    detection_confidence = 0.5\n",
    "   \n",
    "    '''Load Classification Model'''\n",
    "    classification_model = load_model('TSR_FT.h5') #load mask detection model\n",
    "    classes_classification = []\n",
    "    with open(\"sign.txt\", \"r\") as f:\n",
    "        classes_classification = [line.strip() for line in f.readlines()]\n",
    "\n",
    "        cap = cv2.VideoCapture('test_video.mp4')\n",
    "        \n",
    "    while cap.isOpened():\n",
    "        ret,img = cap.read()\n",
    "\n",
    "        #get image shape\n",
    "        frame_count +=1\n",
    "        height, width, channels = img.shape\n",
    "        window_width = width\n",
    "\n",
    "        # Detecting objects (YOLO)\n",
    "        blob = cv2.dnn.blobFromImage(img, 0.00392, (416, 416), (0, 0, 0), True, crop=False)\n",
    "        net.setInput(blob)\n",
    "        outs = net.forward(output_layers)\n",
    "\n",
    "        # Showing informations on the screen (YOLO)\n",
    "        class_ids = []\n",
    "        confidences = []\n",
    "        boxes = []\n",
    "        for out in outs:\n",
    "            for detection in out:\n",
    "                scores = detection[5:]\n",
    "                class_id = np.argmax(scores)\n",
    "                confidence = scores[class_id]\n",
    "                if confidence > confidence_threshold:\n",
    "                    # Object detected\n",
    "                    center_x = int(detection[0] * width)\n",
    "                    center_y = int(detection[1] * height)\n",
    "                    w = int(detection[2] * width)\n",
    "                    h = int(detection[3] * height)\n",
    "                    # Rectangle coordinates\n",
    "                    x = int(center_x - w / 2)\n",
    "                    y = int(center_y - h / 2)\n",
    "                    boxes.append([x, y, w, h])\n",
    "                    confidences.append(float(confidence))\n",
    "                    class_ids.append(class_id)\n",
    "        indexes = cv2.dnn.NMSBoxes(boxes, confidences, 0.5, 0.4)\n",
    "        for i in range(len(boxes)):\n",
    "            if i in indexes:\n",
    "                x, y, w, h = boxes[i]\n",
    "                label = str(classes[class_ids[i]]) + \"=\" + str(round(confidences[i]*100, 2)) + \"%\"\n",
    "                cv2.rectangle(img, (x, y), (x + w, y + h), (255,0,0), 2)\n",
    "                '''crop the detected signs -> input to the classification model'''\n",
    "                crop_img = img[y:y+h, x:x+w]\n",
    "                if len(crop_img) >0:\n",
    "                    crop_img = cv2.resize(crop_img, (WIDTH, HEIGHT))\n",
    "                    crop_img =  crop_img.reshape(-1, WIDTH,HEIGHT,3)\n",
    "                    prediction = np.argmax(classification_model.predict(crop_img))\n",
    "                    label = str(classes_classification[prediction])\n",
    "                    cv2.putText(img, label, (x, y), font, 0.5, (255,0,0), 2)\n",
    "                    sound.say(label)\n",
    "                    sound.runAndWait()\n",
    "                    cv2.imshow(\"Image\", img)\n",
    "\n",
    "        elapsed_time = time.time() - start_time\n",
    "        fps = frame_count/elapsed_time\n",
    "        print (\"fps: \", str(round(fps, 2)))\n",
    "        \n",
    "        cv2.imshow(\"Image\", img)\n",
    "        if cv2.waitKey(10) & 0xFF == ord('q'):\n",
    "            break\n",
    "    cap.release()\n",
    "    cv2.destroyAllWindows()\n",
    "\n",
    "main()\n"
   ]
  },
  {
   "cell_type": "code",
   "execution_count": null,
   "metadata": {},
   "outputs": [],
   "source": []
  }
 ],
 "metadata": {
  "accelerator": "GPU",
  "colab": {
   "collapsed_sections": [],
   "name": "signs_classification (2).ipynb",
   "provenance": []
  },
  "kernelspec": {
   "display_name": "Python 3",
   "language": "python",
   "name": "python3"
  },
  "language_info": {
   "codemirror_mode": {
    "name": "ipython",
    "version": 3
   },
   "file_extension": ".py",
   "mimetype": "text/x-python",
   "name": "python",
   "nbconvert_exporter": "python",
   "pygments_lexer": "ipython3",
   "version": "3.8.3"
  }
 },
 "nbformat": 4,
 "nbformat_minor": 1
}
